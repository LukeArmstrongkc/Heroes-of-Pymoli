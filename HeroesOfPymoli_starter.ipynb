{
 "cells": [
  {
   "cell_type": "markdown",
   "metadata": {},
   "source": [
    "### Heroes Of Pymoli Data Analysis\n",
    "* Of the 1163 active players, the vast majority are male (84%). There also exists, a smaller, but notable proportion of female players (14%).\n",
    "\n",
    "* Our peak age demographic falls between 20-24 (44.8%) with secondary groups falling between 15-19 (18.60%) and 25-29 (13.4%). \n",
    "\n",
    "### Luke's Analysis\n",
    "* Even though male players make up the vast majority of players, both genders and those who don't identify tend to spend close to the same total average amount. There isn't a large disparity between the sexes when it comes to average spending.\n",
    "* Far and away, the most spending by age group is 20-24, followed at a distance by 15-19. The other age groups are far removed from either of these groups.\n",
    "* If you want to be cool, buy an Oathbringer. EVerybody's doing it. Lisosia93 probably bought one...\n",
    "-----"
   ]
  },
  {
   "cell_type": "markdown",
   "metadata": {},
   "source": [
    "### Note\n",
    "* Instructions have been included for each segment. You do not have to follow them exactly, but they are included to help you think through the steps."
   ]
  },
  {
   "cell_type": "code",
   "execution_count": 12,
   "metadata": {},
   "outputs": [],
   "source": [
    "# Dependencies and Setup\n",
    "import pandas as pd\n",
    "import numpy as np\n",
    "\n",
    "# Raw data file\n",
    "file_to_load = \"Resources/purchase_data.csv\"\n",
    "\n",
    "# Read purchasing file and store into pandas data frame\n",
    "purchase_data = pd.read_csv(file_to_load)"
   ]
  },
  {
   "cell_type": "markdown",
   "metadata": {},
   "source": [
    "## Player Count"
   ]
  },
  {
   "cell_type": "markdown",
   "metadata": {},
   "source": [
    "* Display the total number of players\n"
   ]
  },
  {
   "cell_type": "code",
   "execution_count": 13,
   "metadata": {},
   "outputs": [
    {
     "data": {
      "text/html": [
       "<div>\n",
       "<style scoped>\n",
       "    .dataframe tbody tr th:only-of-type {\n",
       "        vertical-align: middle;\n",
       "    }\n",
       "\n",
       "    .dataframe tbody tr th {\n",
       "        vertical-align: top;\n",
       "    }\n",
       "\n",
       "    .dataframe thead th {\n",
       "        text-align: right;\n",
       "    }\n",
       "</style>\n",
       "<table border=\"1\" class=\"dataframe\">\n",
       "  <thead>\n",
       "    <tr style=\"text-align: right;\">\n",
       "      <th></th>\n",
       "      <th>Total Players</th>\n",
       "    </tr>\n",
       "  </thead>\n",
       "  <tbody>\n",
       "    <tr>\n",
       "      <th>0</th>\n",
       "      <td>576</td>\n",
       "    </tr>\n",
       "  </tbody>\n",
       "</table>\n",
       "</div>"
      ],
      "text/plain": [
       "   Total Players\n",
       "0            576"
      ]
     },
     "execution_count": 13,
     "metadata": {},
     "output_type": "execute_result"
    }
   ],
   "source": [
    "player_count = purchase_data['SN'].nunique()\n",
    "pd.DataFrame([player_count], columns = [\"Total Players\"])"
   ]
  },
  {
   "cell_type": "markdown",
   "metadata": {},
   "source": [
    "## Purchasing Analysis (Total)"
   ]
  },
  {
   "cell_type": "markdown",
   "metadata": {},
   "source": [
    "* Run basic calculations to obtain number of unique items, average price, etc.\n",
    "\n",
    "\n",
    "* Create a summary data frame to hold the results\n",
    "\n",
    "\n",
    "* Optional: give the displayed data cleaner formatting\n",
    "\n",
    "\n",
    "* Display the summary data frame\n"
   ]
  },
  {
   "cell_type": "code",
   "execution_count": 14,
   "metadata": {
    "scrolled": true
   },
   "outputs": [
    {
     "data": {
      "text/html": [
       "<div>\n",
       "<style scoped>\n",
       "    .dataframe tbody tr th:only-of-type {\n",
       "        vertical-align: middle;\n",
       "    }\n",
       "\n",
       "    .dataframe tbody tr th {\n",
       "        vertical-align: top;\n",
       "    }\n",
       "\n",
       "    .dataframe thead th {\n",
       "        text-align: right;\n",
       "    }\n",
       "</style>\n",
       "<table border=\"1\" class=\"dataframe\">\n",
       "  <thead>\n",
       "    <tr style=\"text-align: right;\">\n",
       "      <th></th>\n",
       "      <th>Average Price</th>\n",
       "      <th>Number of Purchases</th>\n",
       "      <th>Number of Unique Items</th>\n",
       "      <th>Total Revenue</th>\n",
       "    </tr>\n",
       "  </thead>\n",
       "  <tbody>\n",
       "    <tr>\n",
       "      <th>0</th>\n",
       "      <td>3.05</td>\n",
       "      <td>780</td>\n",
       "      <td>183</td>\n",
       "      <td>2379.77</td>\n",
       "    </tr>\n",
       "  </tbody>\n",
       "</table>\n",
       "</div>"
      ],
      "text/plain": [
       "   Average Price  Number of Purchases  Number of Unique Items  Total Revenue\n",
       "0           3.05                  780                     183        2379.77"
      ]
     },
     "execution_count": 14,
     "metadata": {},
     "output_type": "execute_result"
    }
   ],
   "source": [
    "unique_items = purchase_data['Item ID'].nunique()\n",
    "avg_price = (purchase_data['Price'].sum()/purchase_data['Price'].count()).round(2)\n",
    "avg_price\n",
    "tot_purchase = purchase_data['Item ID'].count()\n",
    "tot_purchase\n",
    "purchase_data.dropna()\n",
    "\n",
    "tot_revenue = purchase_data['Price'].sum()\n",
    "tot_revenue\n",
    "\n",
    "purch_analysis = pd.DataFrame([{\"Number of Unique Items\": unique_items,\n",
    "                                \"Number of Purchases\": tot_purchase,\n",
    "                                \"Average Price\": avg_price,\n",
    "                                \"Total Revenue\": tot_revenue}])\n",
    "\n",
    "purch_analysis"
   ]
  },
  {
   "cell_type": "markdown",
   "metadata": {},
   "source": [
    "## Gender Demographics"
   ]
  },
  {
   "cell_type": "markdown",
   "metadata": {},
   "source": [
    "* Run basic calculations to obtain number of unique items, average price, etc.\n",
    "\n",
    "\n",
    "* Create a summary data frame to hold the results\n",
    "\n",
    "\n",
    "* Optional: give the displayed data cleaner formatting\n",
    "\n",
    "\n",
    "* Display the summary data frame\n"
   ]
  },
  {
   "cell_type": "code",
   "execution_count": 15,
   "metadata": {},
   "outputs": [
    {
     "data": {
      "text/html": [
       "<div>\n",
       "<style scoped>\n",
       "    .dataframe tbody tr th:only-of-type {\n",
       "        vertical-align: middle;\n",
       "    }\n",
       "\n",
       "    .dataframe tbody tr th {\n",
       "        vertical-align: top;\n",
       "    }\n",
       "\n",
       "    .dataframe thead th {\n",
       "        text-align: right;\n",
       "    }\n",
       "</style>\n",
       "<table border=\"1\" class=\"dataframe\">\n",
       "  <thead>\n",
       "    <tr style=\"text-align: right;\">\n",
       "      <th></th>\n",
       "      <th>Percentage of Players</th>\n",
       "      <th>Total Count</th>\n",
       "    </tr>\n",
       "    <tr>\n",
       "      <th></th>\n",
       "      <th></th>\n",
       "      <th></th>\n",
       "    </tr>\n",
       "  </thead>\n",
       "  <tbody>\n",
       "    <tr>\n",
       "      <th>Male</th>\n",
       "      <td>83.59%</td>\n",
       "      <td>652</td>\n",
       "    </tr>\n",
       "    <tr>\n",
       "      <th>Female</th>\n",
       "      <td>14.49%</td>\n",
       "      <td>113</td>\n",
       "    </tr>\n",
       "    <tr>\n",
       "      <th>Other/Non-Disclosed</th>\n",
       "      <td>1.92%</td>\n",
       "      <td>15</td>\n",
       "    </tr>\n",
       "  </tbody>\n",
       "</table>\n",
       "</div>"
      ],
      "text/plain": [
       "                    Percentage of Players  Total Count\n",
       "                                                      \n",
       "Male                               83.59%          652\n",
       "Female                             14.49%          113\n",
       "Other/Non-Disclosed                 1.92%           15"
      ]
     },
     "execution_count": 15,
     "metadata": {},
     "output_type": "execute_result"
    }
   ],
   "source": [
    "total_gender = purchase_data[\"Gender\"].count()\n",
    "male_total = purchase_data[\"Gender\"].value_counts()['Male']\n",
    "female_total = purchase_data[\"Gender\"].value_counts()['Female']\n",
    "other_total = total_gender - male_total - female_total\n",
    "\n",
    "male_percent = (male_total / total_gender) * 100\n",
    "female_percent = (female_total / total_gender) * 100\n",
    "other_percent = (other_total / total_gender) * 100\n",
    "\n",
    "gender_dem = pd.DataFrame({\"\":[\"Male\", \"Female\", \"Other/Non-Disclosed\"],\n",
    "                            \"Percentage of Players\":[male_percent, female_percent, other_percent],\n",
    "                          \"Total Count\":[male_total, female_total, other_total]})\n",
    "gender_dem[\"Percentage of Players\"] = gender_dem[\"Percentage of Players\"].map(\"{:.2f}%\".format)\n",
    "gender_dem = gender_dem.set_index('')\n",
    "gender_dem"
   ]
  },
  {
   "cell_type": "markdown",
   "metadata": {},
   "source": [
    "\n",
    "## Purchasing Analysis (Gender)"
   ]
  },
  {
   "cell_type": "markdown",
   "metadata": {},
   "source": [
    "* Run basic calculations to obtain purchase count, avg. purchase price, etc. by gender\n",
    "\n",
    "\n",
    "* For normalized purchasing, divide total purchase value by purchase count, by gender\n",
    "\n",
    "\n",
    "* Create a summary data frame to hold the results\n",
    "\n",
    "\n",
    "* Optional: give the displayed data cleaner formatting\n",
    "\n",
    "\n",
    "* Display the summary data frame"
   ]
  },
  {
   "cell_type": "code",
   "execution_count": 16,
   "metadata": {},
   "outputs": [
    {
     "data": {
      "text/html": [
       "<div>\n",
       "<style scoped>\n",
       "    .dataframe tbody tr th:only-of-type {\n",
       "        vertical-align: middle;\n",
       "    }\n",
       "\n",
       "    .dataframe tbody tr th {\n",
       "        vertical-align: top;\n",
       "    }\n",
       "\n",
       "    .dataframe thead th {\n",
       "        text-align: right;\n",
       "    }\n",
       "</style>\n",
       "<table border=\"1\" class=\"dataframe\">\n",
       "  <thead>\n",
       "    <tr style=\"text-align: right;\">\n",
       "      <th></th>\n",
       "      <th>Gender</th>\n",
       "      <th>Purchase Count</th>\n",
       "      <th>Average Purchase Price</th>\n",
       "      <th>Total Purchase Value</th>\n",
       "      <th>Normalized Totals</th>\n",
       "    </tr>\n",
       "  </thead>\n",
       "  <tbody>\n",
       "    <tr>\n",
       "      <th>0</th>\n",
       "      <td>Male</td>\n",
       "      <td>652</td>\n",
       "      <td>$3.02</td>\n",
       "      <td>$3.02</td>\n",
       "      <td>$3.02</td>\n",
       "    </tr>\n",
       "    <tr>\n",
       "      <th>1</th>\n",
       "      <td>Female</td>\n",
       "      <td>113</td>\n",
       "      <td>$3.20</td>\n",
       "      <td>$3.20</td>\n",
       "      <td>$3.20</td>\n",
       "    </tr>\n",
       "    <tr>\n",
       "      <th>2</th>\n",
       "      <td>Other / Non-Disclosed</td>\n",
       "      <td>15</td>\n",
       "      <td>$3.35</td>\n",
       "      <td>$3.35</td>\n",
       "      <td>$3.35</td>\n",
       "    </tr>\n",
       "  </tbody>\n",
       "</table>\n",
       "</div>"
      ],
      "text/plain": [
       "                  Gender  Purchase Count Average Purchase Price  \\\n",
       "0                   Male             652                  $3.02   \n",
       "1                 Female             113                  $3.20   \n",
       "2  Other / Non-Disclosed              15                  $3.35   \n",
       "\n",
       "  Total Purchase Value Normalized Totals  \n",
       "0                $3.02             $3.02  \n",
       "1                $3.20             $3.20  \n",
       "2                $3.35             $3.35  "
      ]
     },
     "execution_count": 16,
     "metadata": {},
     "output_type": "execute_result"
    }
   ],
   "source": [
    "male_purchase = purchase_data[\"Gender\"].value_counts()['Male']\n",
    "female_purchase = purchase_data[\"Gender\"].value_counts()['Female']\n",
    "other_purchase = total_gender - male_total - female_total\n",
    "\n",
    "male_avg = purchase_data[purchase_data[\"Gender\"] == 'Male']['Price'].mean()\n",
    "female_avg = purchase_data[purchase_data[\"Gender\"] =='Female']['Price'].mean()\n",
    "other_avg = purchase_data[purchase_data[\"Gender\"] =='Other / Non-Disclosed']['Price'].mean()\n",
    "\n",
    "male_sum = purchase_data[purchase_data[\"Gender\"] == 'Male']['Price'].sum()\n",
    "female_sum = purchase_data[purchase_data[\"Gender\"] =='Female']['Price'].sum()\n",
    "other_sum = purchase_data[purchase_data[\"Gender\"] =='Other / Non-Disclosed']['Price'].sum()\n",
    "\n",
    "male_norm = male_sum/male_total\n",
    "female_norm = female_sum/female_total\n",
    "other_norm = other_sum/other_total\n",
    "\n",
    "gender_dem = pd.DataFrame({\"Gender\":[\"Male\", \"Female\", \"Other / Non-Disclosed\"],\n",
    "                            \"Purchase Count\":[male_purchase, female_purchase, other_purchase],\n",
    "                           \"Average Purchase Price\":[male_avg, female_avg, other_avg],\n",
    "                           \"Total Purchase Value\":[male_norm, female_norm, other_norm],\n",
    "                          \"Normalized Totals\": [male_norm,female_norm, other_norm]})\n",
    "gender_dem[\"Average Purchase Price\"] = gender_dem[\"Average Purchase Price\"].map(\"${:.2f}\".format)\n",
    "gender_dem[\"Total Purchase Value\"] = gender_dem[\"Total Purchase Value\"].map(\"${:.2f}\".format)\n",
    "gender_dem[\"Normalized Totals\"] = gender_dem[\"Normalized Totals\"].map(\"${:.2f}\".format)\n",
    "gender_dem"
   ]
  },
  {
   "cell_type": "markdown",
   "metadata": {},
   "source": [
    "## Age Demographics"
   ]
  },
  {
   "cell_type": "markdown",
   "metadata": {},
   "source": [
    "* Establish bins for ages\n",
    "\n",
    "\n",
    "* Categorize the existing players using the age bins. Hint: use pd.cut()\n",
    "\n",
    "\n",
    "* Calculate the numbers and percentages by age group\n",
    "\n",
    "\n",
    "* Create a summary data frame to hold the results\n",
    "\n",
    "\n",
    "* Optional: round the percentage column to two decimal points\n",
    "\n",
    "\n",
    "* Display Age Demographics Table\n"
   ]
  },
  {
   "cell_type": "code",
   "execution_count": 17,
   "metadata": {},
   "outputs": [
    {
     "data": {
      "text/html": [
       "<div>\n",
       "<style scoped>\n",
       "    .dataframe tbody tr th:only-of-type {\n",
       "        vertical-align: middle;\n",
       "    }\n",
       "\n",
       "    .dataframe tbody tr th {\n",
       "        vertical-align: top;\n",
       "    }\n",
       "\n",
       "    .dataframe thead th {\n",
       "        text-align: right;\n",
       "    }\n",
       "</style>\n",
       "<table border=\"1\" class=\"dataframe\">\n",
       "  <thead>\n",
       "    <tr style=\"text-align: right;\">\n",
       "      <th></th>\n",
       "      <th>Percentage of Players</th>\n",
       "      <th>Total Count</th>\n",
       "    </tr>\n",
       "    <tr>\n",
       "      <th>Age Group</th>\n",
       "      <th></th>\n",
       "      <th></th>\n",
       "    </tr>\n",
       "  </thead>\n",
       "  <tbody>\n",
       "    <tr>\n",
       "      <th>&lt;10</th>\n",
       "      <td>2.95%</td>\n",
       "      <td>23</td>\n",
       "    </tr>\n",
       "    <tr>\n",
       "      <th>10-14</th>\n",
       "      <td>3.59%</td>\n",
       "      <td>28</td>\n",
       "    </tr>\n",
       "    <tr>\n",
       "      <th>15-19</th>\n",
       "      <td>17.44%</td>\n",
       "      <td>136</td>\n",
       "    </tr>\n",
       "    <tr>\n",
       "      <th>20-24</th>\n",
       "      <td>46.79%</td>\n",
       "      <td>365</td>\n",
       "    </tr>\n",
       "    <tr>\n",
       "      <th>25-29</th>\n",
       "      <td>12.95%</td>\n",
       "      <td>101</td>\n",
       "    </tr>\n",
       "    <tr>\n",
       "      <th>30-34</th>\n",
       "      <td>9.36%</td>\n",
       "      <td>73</td>\n",
       "    </tr>\n",
       "    <tr>\n",
       "      <th>35-39</th>\n",
       "      <td>5.26%</td>\n",
       "      <td>41</td>\n",
       "    </tr>\n",
       "    <tr>\n",
       "      <th>40+</th>\n",
       "      <td>1.67%</td>\n",
       "      <td>13</td>\n",
       "    </tr>\n",
       "  </tbody>\n",
       "</table>\n",
       "</div>"
      ],
      "text/plain": [
       "          Percentage of Players  Total Count\n",
       "Age Group                                   \n",
       "<10                       2.95%           23\n",
       "10-14                     3.59%           28\n",
       "15-19                    17.44%          136\n",
       "20-24                    46.79%          365\n",
       "25-29                    12.95%          101\n",
       "30-34                     9.36%           73\n",
       "35-39                     5.26%           41\n",
       "40+                       1.67%           13"
      ]
     },
     "execution_count": 17,
     "metadata": {},
     "output_type": "execute_result"
    }
   ],
   "source": [
    "# Establish bins for ages\n",
    "age_bins = [0, 9.90, 14.90, 19.90, 24.90, 29.90, 34.90, 39.90, 99999]\n",
    "group_names = [\"<10\", \"10-14\", \"15-19\", \"20-24\", \"25-29\", \"30-34\", \"35-39\", \"40+\"]\n",
    "bin_df = purchase_data.copy()\n",
    "bin_df[\"Age Group\"] = pd.cut(bin_df[\"Age\"],age_bins, labels=group_names)\n",
    "group_bin = bin_df.groupby([\"Age Group\"])\n",
    "\n",
    "bin_count = group_bin[\"SN\"].count()\n",
    "count_tot = purchase_data[\"SN\"].count()\n",
    "percentage = (bin_count/count_tot)*100\n",
    "percentage\n",
    "\n",
    "age_percentage = pd.DataFrame({\"Percentage of Players\": percentage,\n",
    "                               \"Total Count\":bin_count,})\n",
    "age_percentage[\"Percentage of Players\"] = age_percentage[\"Percentage of Players\"].map(\"{:.2f}%\".format)\n",
    "age_percentage\n",
    "                  "
   ]
  },
  {
   "cell_type": "markdown",
   "metadata": {},
   "source": [
    "## Purchasing Analysis (Age)"
   ]
  },
  {
   "cell_type": "markdown",
   "metadata": {},
   "source": [
    "* Bin the purchase_data data frame by age\n",
    "\n",
    "\n",
    "* Run basic calculations to obtain purchase count, avg. purchase price, etc. in the table below\n",
    "\n",
    "\n",
    "* Calculate Normalized Purchasing\n",
    "\n",
    "\n",
    "* Create a summary data frame to hold the results\n",
    "\n",
    "\n",
    "* Optional: give the displayed data cleaner formatting\n",
    "\n",
    "\n",
    "* Display the summary data frame"
   ]
  },
  {
   "cell_type": "code",
   "execution_count": 19,
   "metadata": {},
   "outputs": [
    {
     "name": "stderr",
     "output_type": "stream",
     "text": [
      "C:\\ProgramData\\Anaconda3\\lib\\site-packages\\ipykernel_launcher.py:14: SettingWithCopyWarning: \n",
      "A value is trying to be set on a copy of a slice from a DataFrame.\n",
      "Try using .loc[row_indexer,col_indexer] = value instead\n",
      "\n",
      "See the caveats in the documentation: http://pandas.pydata.org/pandas-docs/stable/indexing.html#indexing-view-versus-copy\n",
      "  \n"
     ]
    },
    {
     "data": {
      "text/html": [
       "<div>\n",
       "<style scoped>\n",
       "    .dataframe tbody tr th:only-of-type {\n",
       "        vertical-align: middle;\n",
       "    }\n",
       "\n",
       "    .dataframe tbody tr th {\n",
       "        vertical-align: top;\n",
       "    }\n",
       "\n",
       "    .dataframe thead th {\n",
       "        text-align: right;\n",
       "    }\n",
       "</style>\n",
       "<table border=\"1\" class=\"dataframe\">\n",
       "  <thead>\n",
       "    <tr style=\"text-align: right;\">\n",
       "      <th></th>\n",
       "      <th>Purchase Count</th>\n",
       "      <th>Average Purchase Price</th>\n",
       "      <th>Total Purchase Value</th>\n",
       "      <th>Normalized Totals</th>\n",
       "    </tr>\n",
       "    <tr>\n",
       "      <th>Age Group</th>\n",
       "      <th></th>\n",
       "      <th></th>\n",
       "      <th></th>\n",
       "      <th></th>\n",
       "    </tr>\n",
       "  </thead>\n",
       "  <tbody>\n",
       "    <tr>\n",
       "      <th>Under 10</th>\n",
       "      <td>32</td>\n",
       "      <td>$3.40</td>\n",
       "      <td>$108.96</td>\n",
       "      <td>$99.16</td>\n",
       "    </tr>\n",
       "    <tr>\n",
       "      <th>10 - 14</th>\n",
       "      <td>54</td>\n",
       "      <td>$2.90</td>\n",
       "      <td>$156.60</td>\n",
       "      <td>$58.04</td>\n",
       "    </tr>\n",
       "    <tr>\n",
       "      <th>15 - 19</th>\n",
       "      <td>200</td>\n",
       "      <td>$3.11</td>\n",
       "      <td>$621.56</td>\n",
       "      <td>$15.87</td>\n",
       "    </tr>\n",
       "    <tr>\n",
       "      <th>20 - 24</th>\n",
       "      <td>325</td>\n",
       "      <td>$3.02</td>\n",
       "      <td>$981.64</td>\n",
       "      <td>$10.26</td>\n",
       "    </tr>\n",
       "    <tr>\n",
       "      <th>25 - 29</th>\n",
       "      <td>77</td>\n",
       "      <td>$2.88</td>\n",
       "      <td>$221.42</td>\n",
       "      <td>$40.34</td>\n",
       "    </tr>\n",
       "    <tr>\n",
       "      <th>30 - 34</th>\n",
       "      <td>52</td>\n",
       "      <td>$2.99</td>\n",
       "      <td>$155.71</td>\n",
       "      <td>$64.32</td>\n",
       "    </tr>\n",
       "    <tr>\n",
       "      <th>35 - 39</th>\n",
       "      <td>33</td>\n",
       "      <td>$3.40</td>\n",
       "      <td>$112.35</td>\n",
       "      <td>$91.53</td>\n",
       "    </tr>\n",
       "    <tr>\n",
       "      <th>Over 40</th>\n",
       "      <td>7</td>\n",
       "      <td>$3.08</td>\n",
       "      <td>$21.53</td>\n",
       "      <td>$339.97</td>\n",
       "    </tr>\n",
       "  </tbody>\n",
       "</table>\n",
       "</div>"
      ],
      "text/plain": [
       "           Purchase Count Average Purchase Price Total Purchase Value  \\\n",
       "Age Group                                                               \n",
       "Under 10               32                  $3.40              $108.96   \n",
       "10 - 14                54                  $2.90              $156.60   \n",
       "15 - 19               200                  $3.11              $621.56   \n",
       "20 - 24               325                  $3.02              $981.64   \n",
       "25 - 29                77                  $2.88              $221.42   \n",
       "30 - 34                52                  $2.99              $155.71   \n",
       "35 - 39                33                  $3.40              $112.35   \n",
       "Over 40                 7                  $3.08               $21.53   \n",
       "\n",
       "          Normalized Totals  \n",
       "Age Group                    \n",
       "Under 10             $99.16  \n",
       "10 - 14              $58.04  \n",
       "15 - 19              $15.87  \n",
       "20 - 24              $10.26  \n",
       "25 - 29              $40.34  \n",
       "30 - 34              $64.32  \n",
       "35 - 39              $91.53  \n",
       "Over 40             $339.97  "
      ]
     },
     "execution_count": 19,
     "metadata": {},
     "output_type": "execute_result"
    }
   ],
   "source": [
    "age_bins = [0,10,15,20,25,30,35,40,200]\n",
    "group_names = ['Under 10', '10 - 14', '15 - 19', '20 - 24', '25 - 29', '30 - 34', '35 - 39', 'Over 40']\n",
    "bin_df = purchase_data.copy()\n",
    "bin_df[\"Age Group\"] = pd.cut(bin_df[\"Age\"],age_bins, labels=group_names)\n",
    "bin_column = pd.cut(bin_df[\"Age\"], age_bins, labels = group_names)\n",
    "group_bin = bin_df.groupby([\"Age Group\"])\n",
    "\n",
    "\n",
    "bin_purch_count = group_bin[\"Age\"].count()\n",
    "bin_avg_price = group_bin[\"Price\"].mean()\n",
    "bin_avg_total = group_bin[\"Price\"].sum()\n",
    "\n",
    "bin_dup = purchase_data.drop_duplicates(subset=\"SN\", keep=\"first\")\n",
    "bin_dup[\"Age Group\"] = pd.cut(bin_df[\"Age\"],age_bins, labels=group_names)\n",
    "bin_dup = bin_dup.groupby([\"Age Group\"])\n",
    "\n",
    "\n",
    "bin_norm = (bin_df[\"Price\"].sum()/bin_dup[\"SN\"].count())\n",
    "\n",
    "age_purchase = pd.DataFrame({\"Purchase Count\":bin_purch_count,\n",
    "                           \"Average Purchase Price\":bin_avg_price,\n",
    "                           \"Total Purchase Value\":bin_avg_total,\n",
    "                          \"Normalized Totals\": bin_norm})\n",
    "age_purchase[\"Average Purchase Price\"] = age_purchase[\"Average Purchase Price\"].map(\"${:.2f}\".format)\n",
    "age_purchase[\"Total Purchase Value\"] = age_purchase[\"Total Purchase Value\"].map(\"${:.2f}\".format)\n",
    "age_purchase[\"Normalized Totals\"] = age_purchase[\"Normalized Totals\"].map(\"${:.2f}\".format)\n",
    "age_purchase = age_purchase[[\"Purchase Count\",\"Average Purchase Price\", \"Total Purchase Value\", \"Normalized Totals\"]]\n",
    "age_purchase.head(10)"
   ]
  },
  {
   "cell_type": "markdown",
   "metadata": {},
   "source": [
    "## Top Spenders"
   ]
  },
  {
   "cell_type": "markdown",
   "metadata": {},
   "source": [
    "* Run basic calculations to obtain the results in the table below\n",
    "\n",
    "\n",
    "* Create a summary data frame to hold the results\n",
    "\n",
    "\n",
    "* Sort the total purchase value column in descending order\n",
    "\n",
    "\n",
    "* Optional: give the displayed data cleaner formatting\n",
    "\n",
    "\n",
    "* Display a preview of the summary data frame\n",
    "\n"
   ]
  },
  {
   "cell_type": "code",
   "execution_count": 20,
   "metadata": {},
   "outputs": [
    {
     "data": {
      "text/html": [
       "<div>\n",
       "<style scoped>\n",
       "    .dataframe tbody tr th:only-of-type {\n",
       "        vertical-align: middle;\n",
       "    }\n",
       "\n",
       "    .dataframe tbody tr th {\n",
       "        vertical-align: top;\n",
       "    }\n",
       "\n",
       "    .dataframe thead th {\n",
       "        text-align: right;\n",
       "    }\n",
       "</style>\n",
       "<table border=\"1\" class=\"dataframe\">\n",
       "  <thead>\n",
       "    <tr style=\"text-align: right;\">\n",
       "      <th></th>\n",
       "      <th>SN</th>\n",
       "      <th>Purchase Count</th>\n",
       "      <th>Average Purchase Price</th>\n",
       "      <th>Total Purchase Value</th>\n",
       "    </tr>\n",
       "  </thead>\n",
       "  <tbody>\n",
       "    <tr>\n",
       "      <th>0</th>\n",
       "      <td>Lisosia93</td>\n",
       "      <td>5</td>\n",
       "      <td>$3.79</td>\n",
       "      <td>$18.96</td>\n",
       "    </tr>\n",
       "    <tr>\n",
       "      <th>1</th>\n",
       "      <td>Idastidru52</td>\n",
       "      <td>4</td>\n",
       "      <td>$3.86</td>\n",
       "      <td>$15.45</td>\n",
       "    </tr>\n",
       "    <tr>\n",
       "      <th>2</th>\n",
       "      <td>Chamjask73</td>\n",
       "      <td>3</td>\n",
       "      <td>$4.61</td>\n",
       "      <td>$13.83</td>\n",
       "    </tr>\n",
       "    <tr>\n",
       "      <th>3</th>\n",
       "      <td>Iral74</td>\n",
       "      <td>4</td>\n",
       "      <td>$3.40</td>\n",
       "      <td>$13.62</td>\n",
       "    </tr>\n",
       "    <tr>\n",
       "      <th>4</th>\n",
       "      <td>Iskadarya95</td>\n",
       "      <td>3</td>\n",
       "      <td>$4.37</td>\n",
       "      <td>$13.10</td>\n",
       "    </tr>\n",
       "  </tbody>\n",
       "</table>\n",
       "</div>"
      ],
      "text/plain": [
       "            SN  Purchase Count Average Purchase Price Total Purchase Value\n",
       "0    Lisosia93               5                  $3.79               $18.96\n",
       "1  Idastidru52               4                  $3.86               $15.45\n",
       "2   Chamjask73               3                  $4.61               $13.83\n",
       "3       Iral74               4                  $3.40               $13.62\n",
       "4  Iskadarya95               3                  $4.37               $13.10"
      ]
     },
     "execution_count": 20,
     "metadata": {},
     "output_type": "execute_result"
    }
   ],
   "source": [
    "groupSN=purchase_data.groupby([\"SN\"])\n",
    "groupSNtotal=purchase_data.groupby([\"SN\"])['Price'].sum()\n",
    "groupIDtotal=purchase_data.groupby([\"SN\"])['Price'].count()\n",
    "\n",
    "groupSNavg= round(groupSNtotal/groupIDtotal,2)\n",
    "\n",
    "top_spender=pd.DataFrame({\"Purchase Count\": groupIDtotal,\n",
    "                          \"Average Purchase Price\":groupSNavg,\n",
    "                          \"Total Purchase Value\":groupSNtotal})\n",
    "\n",
    "\n",
    "top_spender= top_spender.sort_values(\"Total Purchase Value\", ascending=False)\n",
    "top_spender= top_spender[[\"Purchase Count\", \"Average Purchase Price\", \"Total Purchase Value\"]]\n",
    "top_spender[\"Average Purchase Price\"] = top_spender[\"Average Purchase Price\"].map(\"${:.2f}\".format)\n",
    "top_spender[\"Total Purchase Value\"] = top_spender[\"Total Purchase Value\"].map(\"${:.2f}\".format)\n",
    "top_spender.reset_index(inplace=True)\n",
    "top_spender.round(2)\n",
    "top_spender.head()"
   ]
  },
  {
   "cell_type": "markdown",
   "metadata": {},
   "source": [
    "## Most Popular Items"
   ]
  },
  {
   "cell_type": "markdown",
   "metadata": {},
   "source": [
    "* Retrieve the Item ID, Item Name, and Item Price columns\n",
    "\n",
    "\n",
    "* Group by Item ID and Item Name. Perform calculations to obtain purchase count, item price, and total purchase value\n",
    "\n",
    "\n",
    "* Create a summary data frame to hold the results\n",
    "\n",
    "\n",
    "* Sort the purchase count column in descending order\n",
    "\n",
    "\n",
    "* Optional: give the displayed data cleaner formatting\n",
    "\n",
    "\n",
    "* Display a preview of the summary data frame\n",
    "\n"
   ]
  },
  {
   "cell_type": "code",
   "execution_count": 28,
   "metadata": {},
   "outputs": [
    {
     "data": {
      "text/html": [
       "<style  type=\"text/css\" >\n",
       "</style>  \n",
       "<table id=\"T_cf9ae34c_7f0d_11e8_ac7a_a41731b30781\" > \n",
       "<thead>    <tr> \n",
       "        <th class=\"blank\" ></th> \n",
       "        <th class=\"blank level0\" ></th> \n",
       "        <th class=\"col_heading level0 col0\" >Purchase Count</th> \n",
       "        <th class=\"col_heading level0 col1\" >Item Price</th> \n",
       "        <th class=\"col_heading level0 col2\" >Total Purchase Value</th> \n",
       "    </tr>    <tr> \n",
       "        <th class=\"index_name level0\" >Item Name</th> \n",
       "        <th class=\"index_name level1\" >Item ID</th> \n",
       "        <th class=\"blank\" ></th> \n",
       "        <th class=\"blank\" ></th> \n",
       "        <th class=\"blank\" ></th> \n",
       "    </tr></thead> \n",
       "<tbody>    <tr> \n",
       "        <th id=\"T_cf9ae34c_7f0d_11e8_ac7a_a41731b30781level0_row0\" class=\"row_heading level0 row0\" >Oathbreaker, Last Hope of the Breaking Storm</th> \n",
       "        <th id=\"T_cf9ae34c_7f0d_11e8_ac7a_a41731b30781level1_row0\" class=\"row_heading level1 row0\" >178</th> \n",
       "        <td id=\"T_cf9ae34c_7f0d_11e8_ac7a_a41731b30781row0_col0\" class=\"data row0 col0\" >12</td> \n",
       "        <td id=\"T_cf9ae34c_7f0d_11e8_ac7a_a41731b30781row0_col1\" class=\"data row0 col1\" >$4.23</td> \n",
       "        <td id=\"T_cf9ae34c_7f0d_11e8_ac7a_a41731b30781row0_col2\" class=\"data row0 col2\" >$50.76</td> \n",
       "    </tr>    <tr> \n",
       "        <th id=\"T_cf9ae34c_7f0d_11e8_ac7a_a41731b30781level0_row1\" class=\"row_heading level0 row1\" >Nirvana</th> \n",
       "        <th id=\"T_cf9ae34c_7f0d_11e8_ac7a_a41731b30781level1_row1\" class=\"row_heading level1 row1\" >82</th> \n",
       "        <td id=\"T_cf9ae34c_7f0d_11e8_ac7a_a41731b30781row1_col0\" class=\"data row1 col0\" >9</td> \n",
       "        <td id=\"T_cf9ae34c_7f0d_11e8_ac7a_a41731b30781row1_col1\" class=\"data row1 col1\" >$4.90</td> \n",
       "        <td id=\"T_cf9ae34c_7f0d_11e8_ac7a_a41731b30781row1_col2\" class=\"data row1 col2\" >$44.10</td> \n",
       "    </tr>    <tr> \n",
       "        <th id=\"T_cf9ae34c_7f0d_11e8_ac7a_a41731b30781level0_row2\" class=\"row_heading level0 row2\" >Fiery Glass Crusader</th> \n",
       "        <th id=\"T_cf9ae34c_7f0d_11e8_ac7a_a41731b30781level1_row2\" class=\"row_heading level1 row2\" >145</th> \n",
       "        <td id=\"T_cf9ae34c_7f0d_11e8_ac7a_a41731b30781row2_col0\" class=\"data row2 col0\" >9</td> \n",
       "        <td id=\"T_cf9ae34c_7f0d_11e8_ac7a_a41731b30781row2_col1\" class=\"data row2 col1\" >$4.58</td> \n",
       "        <td id=\"T_cf9ae34c_7f0d_11e8_ac7a_a41731b30781row2_col2\" class=\"data row2 col2\" >$41.22</td> \n",
       "    </tr>    <tr> \n",
       "        <th id=\"T_cf9ae34c_7f0d_11e8_ac7a_a41731b30781level0_row3\" class=\"row_heading level0 row3\" >Extraction, Quickblade Of Trembling Hands</th> \n",
       "        <th id=\"T_cf9ae34c_7f0d_11e8_ac7a_a41731b30781level1_row3\" class=\"row_heading level1 row3\" >108</th> \n",
       "        <td id=\"T_cf9ae34c_7f0d_11e8_ac7a_a41731b30781row3_col0\" class=\"data row3 col0\" >9</td> \n",
       "        <td id=\"T_cf9ae34c_7f0d_11e8_ac7a_a41731b30781row3_col1\" class=\"data row3 col1\" >$3.53</td> \n",
       "        <td id=\"T_cf9ae34c_7f0d_11e8_ac7a_a41731b30781row3_col2\" class=\"data row3 col2\" >$31.77</td> \n",
       "    </tr>    <tr> \n",
       "        <th id=\"T_cf9ae34c_7f0d_11e8_ac7a_a41731b30781level0_row4\" class=\"row_heading level0 row4\" >Singed Scalpel</th> \n",
       "        <th id=\"T_cf9ae34c_7f0d_11e8_ac7a_a41731b30781level1_row4\" class=\"row_heading level1 row4\" >103</th> \n",
       "        <td id=\"T_cf9ae34c_7f0d_11e8_ac7a_a41731b30781row4_col0\" class=\"data row4 col0\" >8</td> \n",
       "        <td id=\"T_cf9ae34c_7f0d_11e8_ac7a_a41731b30781row4_col1\" class=\"data row4 col1\" >$4.35</td> \n",
       "        <td id=\"T_cf9ae34c_7f0d_11e8_ac7a_a41731b30781row4_col2\" class=\"data row4 col2\" >$34.80</td> \n",
       "    </tr></tbody> \n",
       "</table> "
      ],
      "text/plain": [
       "<pandas.io.formats.style.Styler at 0x22b23c39a20>"
      ]
     },
     "execution_count": 28,
     "metadata": {},
     "output_type": "execute_result"
    }
   ],
   "source": [
    "premergeone = purchase_data.groupby(\"Item Name\").sum().reset_index()\n",
    "premergetwo = purchase_data.groupby(\"Item ID\").sum().reset_index()\n",
    "premergethree = purchase_data.groupby(\"Item Name\").count().reset_index()\n",
    "\n",
    "\n",
    "mergeone = pd.merge(premergeone, premergetwo, on=\"Price\")\n",
    "mergetwo = pd.merge(premergethree, mergeone, on=\"Item Name\")\n",
    "\n",
    "\n",
    "mergetwo[\"Gender\"] = (mergetwo[\"Price_y\"]/mergetwo[\"Item ID\"]).round(2)\n",
    "\n",
    "mergetwo_renamed = mergetwo.rename(columns={\"Age\": \"Purchase Count\", \"Gender\": \"Item Price\", \"Item ID\": \"null\", \"Price_y\": \"Total Purchase Value\", \"Item ID_y\": \"Item ID\"})\n",
    "\n",
    "#grab columns we are looking for\n",
    "clean_df = mergetwo_renamed[[\"Item ID\", \"Item Name\", \"Purchase Count\", \"Item Price\", \"Total Purchase Value\"]]\n",
    "\n",
    "prefinal_df = clean_df.set_index(['Item Name', 'Item ID'])\n",
    "popular_items_final = prefinal_df.sort_values('Purchase Count', ascending=False).head(5)\n",
    "popular_items_final.style.format({\"Item Price\": \"${:.2f}\", \"Total Purchase Value\": \"${:.2f}\"})"
   ]
  },
  {
   "cell_type": "markdown",
   "metadata": {},
   "source": [
    "## Most Profitable Items"
   ]
  },
  {
   "cell_type": "markdown",
   "metadata": {},
   "source": [
    "* Sort the above table by total purchase value in descending order\n",
    "\n",
    "\n",
    "* Optional: give the displayed data cleaner formatting\n",
    "\n",
    "\n",
    "* Display a preview of the data frame\n",
    "\n"
   ]
  },
  {
   "cell_type": "code",
   "execution_count": 25,
   "metadata": {
    "scrolled": true
   },
   "outputs": [
    {
     "data": {
      "text/html": [
       "<style  type=\"text/css\" >\n",
       "</style>  \n",
       "<table id=\"T_9f98c1cc_7f0c_11e8_a48d_a41731b30781\" > \n",
       "<thead>    <tr> \n",
       "        <th class=\"blank\" ></th> \n",
       "        <th class=\"blank level0\" ></th> \n",
       "        <th class=\"col_heading level0 col0\" >Purchase Count</th> \n",
       "        <th class=\"col_heading level0 col1\" >Item Price</th> \n",
       "        <th class=\"col_heading level0 col2\" >Total Purchase Value</th> \n",
       "    </tr>    <tr> \n",
       "        <th class=\"index_name level0\" >Item Name</th> \n",
       "        <th class=\"index_name level1\" >Item ID</th> \n",
       "        <th class=\"blank\" ></th> \n",
       "        <th class=\"blank\" ></th> \n",
       "        <th class=\"blank\" ></th> \n",
       "    </tr></thead> \n",
       "<tbody>    <tr> \n",
       "        <th id=\"T_9f98c1cc_7f0c_11e8_a48d_a41731b30781level0_row0\" class=\"row_heading level0 row0\" >Oathbreaker, Last Hope of the Breaking Storm</th> \n",
       "        <th id=\"T_9f98c1cc_7f0c_11e8_a48d_a41731b30781level1_row0\" class=\"row_heading level1 row0\" >178</th> \n",
       "        <td id=\"T_9f98c1cc_7f0c_11e8_a48d_a41731b30781row0_col0\" class=\"data row0 col0\" >12</td> \n",
       "        <td id=\"T_9f98c1cc_7f0c_11e8_a48d_a41731b30781row0_col1\" class=\"data row0 col1\" >$4.23</td> \n",
       "        <td id=\"T_9f98c1cc_7f0c_11e8_a48d_a41731b30781row0_col2\" class=\"data row0 col2\" >$50.76</td> \n",
       "    </tr>    <tr> \n",
       "        <th id=\"T_9f98c1cc_7f0c_11e8_a48d_a41731b30781level0_row1\" class=\"row_heading level0 row1\" >Nirvana</th> \n",
       "        <th id=\"T_9f98c1cc_7f0c_11e8_a48d_a41731b30781level1_row1\" class=\"row_heading level1 row1\" >82</th> \n",
       "        <td id=\"T_9f98c1cc_7f0c_11e8_a48d_a41731b30781row1_col0\" class=\"data row1 col0\" >9</td> \n",
       "        <td id=\"T_9f98c1cc_7f0c_11e8_a48d_a41731b30781row1_col1\" class=\"data row1 col1\" >$4.90</td> \n",
       "        <td id=\"T_9f98c1cc_7f0c_11e8_a48d_a41731b30781row1_col2\" class=\"data row1 col2\" >$44.10</td> \n",
       "    </tr>    <tr> \n",
       "        <th id=\"T_9f98c1cc_7f0c_11e8_a48d_a41731b30781level0_row2\" class=\"row_heading level0 row2\" >Fiery Glass Crusader</th> \n",
       "        <th id=\"T_9f98c1cc_7f0c_11e8_a48d_a41731b30781level1_row2\" class=\"row_heading level1 row2\" >145</th> \n",
       "        <td id=\"T_9f98c1cc_7f0c_11e8_a48d_a41731b30781row2_col0\" class=\"data row2 col0\" >9</td> \n",
       "        <td id=\"T_9f98c1cc_7f0c_11e8_a48d_a41731b30781row2_col1\" class=\"data row2 col1\" >$4.58</td> \n",
       "        <td id=\"T_9f98c1cc_7f0c_11e8_a48d_a41731b30781row2_col2\" class=\"data row2 col2\" >$41.22</td> \n",
       "    </tr>    <tr> \n",
       "        <th id=\"T_9f98c1cc_7f0c_11e8_a48d_a41731b30781level0_row3\" class=\"row_heading level0 row3\" >Singed Scalpel</th> \n",
       "        <th id=\"T_9f98c1cc_7f0c_11e8_a48d_a41731b30781level1_row3\" class=\"row_heading level1 row3\" >103</th> \n",
       "        <td id=\"T_9f98c1cc_7f0c_11e8_a48d_a41731b30781row3_col0\" class=\"data row3 col0\" >8</td> \n",
       "        <td id=\"T_9f98c1cc_7f0c_11e8_a48d_a41731b30781row3_col1\" class=\"data row3 col1\" >$4.35</td> \n",
       "        <td id=\"T_9f98c1cc_7f0c_11e8_a48d_a41731b30781row3_col2\" class=\"data row3 col2\" >$34.80</td> \n",
       "    </tr>    <tr> \n",
       "        <th id=\"T_9f98c1cc_7f0c_11e8_a48d_a41731b30781level0_row4\" class=\"row_heading level0 row4\" >Lightning, Etcher of the King</th> \n",
       "        <th id=\"T_9f98c1cc_7f0c_11e8_a48d_a41731b30781level1_row4\" class=\"row_heading level1 row4\" >59</th> \n",
       "        <td id=\"T_9f98c1cc_7f0c_11e8_a48d_a41731b30781row4_col0\" class=\"data row4 col0\" >8</td> \n",
       "        <td id=\"T_9f98c1cc_7f0c_11e8_a48d_a41731b30781row4_col1\" class=\"data row4 col1\" >$4.23</td> \n",
       "        <td id=\"T_9f98c1cc_7f0c_11e8_a48d_a41731b30781row4_col2\" class=\"data row4 col2\" >$33.84</td> \n",
       "    </tr></tbody> \n",
       "</table> "
      ],
      "text/plain": [
       "<pandas.io.formats.style.Styler at 0x22b24885b38>"
      ]
     },
     "execution_count": 25,
     "metadata": {},
     "output_type": "execute_result"
    }
   ],
   "source": [
    "profit_items_final = prefinal_df.sort_values('Total Purchase Value', ascending=False).head()\n",
    "profit_items_final.style.format({\"Item Price\": \"${:.2f}\", \"Total Purchase Value\": \"${:.2f}\"})"
   ]
  },
  {
   "cell_type": "code",
   "execution_count": null,
   "metadata": {},
   "outputs": [],
   "source": []
  },
  {
   "cell_type": "code",
   "execution_count": null,
   "metadata": {},
   "outputs": [],
   "source": []
  }
 ],
 "metadata": {
  "anaconda-cloud": {},
  "kernel_info": {
   "name": "python3"
  },
  "kernelspec": {
   "display_name": "Python 3",
   "language": "python",
   "name": "python3"
  },
  "language_info": {
   "codemirror_mode": {
    "name": "ipython",
    "version": 3
   },
   "file_extension": ".py",
   "mimetype": "text/x-python",
   "name": "python",
   "nbconvert_exporter": "python",
   "pygments_lexer": "ipython3",
   "version": "3.6.5"
  },
  "nteract": {
   "version": "0.8.4"
  }
 },
 "nbformat": 4,
 "nbformat_minor": 1
}
